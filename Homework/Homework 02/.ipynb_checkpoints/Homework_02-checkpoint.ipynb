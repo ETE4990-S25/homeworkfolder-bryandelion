{
 "cells": [
  {
   "cell_type": "markdown",
   "metadata": {},
   "source": [
    "# Homework #2: \n",
    "Creating and Using Python Classes with JSON\n",
    "\n",
    "## Instructions:\n",
    "### 1. Create a Python file named `data_classes.py` with the following content:\n",
    "- Define a class `Person` with attributes `name`, `age`, and `email`.\n",
    "- Define a class `Student` that inherits from `Person` and adds an attribute `student_id`.\n",
    "- Include a method to save the data of these instances into a JSON file.\n",
    "- Include a method to display the JSON content on the screen.\n",
    "\n",
    "### 2. Write a Jupyter Notebook that:\n",
    "- Imports the classes from `data_classes.py`.\n",
    "- Creates instances of `Person` and `Student`.\n",
    " - Calls the methods to save data to a JSON file and display the JSON content.\n",
    "###  Step 3: Verify the JSON file content\n",
    "This step should be done by running the display_json method in the Jupyter Notebook I expect you to use your juypeter notbook to explane any work and thought processes you had while working on your Homework. Consider your Jypyter notbook your \"Lab Report\" and the Homework is your .py file.\n"
   ]
  },
  {
   "cell_type": "markdown",
   "metadata": {},
   "source": []
  },
  {
   "cell_type": "code",
   "execution_count": 2,
   "metadata": {
    "vscode": {
     "languageId": "plaintext"
    }
   },
   "outputs": [
    {
     "name": "stdout",
     "output_type": "stream",
     "text": [
      "Mclovin\n",
      "24\n",
      "coley@cpp.edu\n",
      "Fogell\n",
      "21\n",
      "fogell@cpp.edu\n",
      "321\n",
      "\n",
      "--- JSON File Content ---\n",
      "[\n",
      "    {\n",
      "        \"type\": \"Person\",\n",
      "        \"name\": \"Mclovin\",\n",
      "        \"age\": 24\n",
      "    },\n",
      "    {\n",
      "        \"type\": \"student\",\n",
      "        \"name\": \"Fogell\",\n",
      "        \"age\": 21,\n",
      "        \"student_id\": 321\n",
      "    }\n",
      "]\n",
      "\n",
      "--- JSON File Content ---\n",
      "[\n",
      "    {\n",
      "        \"type\": \"Person\",\n",
      "        \"name\": \"Mclovin\",\n",
      "        \"age\": 24\n",
      "    },\n",
      "    {\n",
      "        \"type\": \"student\",\n",
      "        \"name\": \"FOgell\",\n",
      "        \"age\": 21,\n",
      "        \"student_id\": 321\n",
      "    }\n",
      "]\n"
     ]
    }
   ],
   "source": [
    "from data_classes import Person,Student,save_to_json, display_json\n",
    "person1 = Person(\"Mclovin\", 24, \"mclovin@cpp.edu\")\n",
    "student1 = Student(\"FOgell\", 21, \"fogel@ardu.edu\", 321)\n",
    "filename = \"people_data.json\" \n",
    "save_to_json(filename,[person1, student1])\n",
    "display_json(filename)\n",
    "\n"
   ]
  },
  {
   "cell_type": "code",
   "execution_count": null,
   "metadata": {
    "vscode": {
     "languageId": "plaintext"
    }
   },
   "outputs": [],
   "source": [
    "#because i have created the dictionary and json and display in my vs code which i have uploaded to github, and also included the display json file on \n",
    "#jupyter i have two outputs but just to be safe ive put them on both the .py and the jupyter files so yo\n",
    "#i but most of my comments on the .py on github \n"
   ]
  }
 ],
 "metadata": {
  "kernelspec": {
   "display_name": "Python 3 (ipykernel)",
   "language": "python",
   "name": "python3"
  },
  "language_info": {
   "codemirror_mode": {
    "name": "ipython",
    "version": 3
   },
   "file_extension": ".py",
   "mimetype": "text/x-python",
   "name": "python",
   "nbconvert_exporter": "python",
   "pygments_lexer": "ipython3",
   "version": "3.11.5"
  }
 },
 "nbformat": 4,
 "nbformat_minor": 4
}
