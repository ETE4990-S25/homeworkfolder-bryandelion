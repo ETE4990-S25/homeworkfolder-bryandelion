{
 "cells": [
  {
   "cell_type": "code",
   "execution_count": 1,
   "id": "ac2c60b3",
   "metadata": {},
   "outputs": [],
   "source": [
    "# Lab 06 - Clean Code\n"
   ]
  },
  {
   "cell_type": "markdown",
   "id": "e8d6d888",
   "metadata": {},
   "source": [
    "## The code below is not tested or is intended to be ran"
   ]
  },
  {
   "cell_type": "code",
   "execution_count": null,
   "id": "c7bb803b",
   "metadata": {},
   "outputs": [],
   "source": [
    "def getStuff (Lists):\n",
    "    list1 = []\n",
    "    for List in Lists:\n",
    "        if (Lists[0] == 4):\n",
    "            list1.append(List);\n",
    "    return list1;"
   ]
  },
  {
   "cell_type": "code",
   "execution_count": null,
   "id": "68457258",
   "metadata": {},
   "outputs": [],
   "source": [
    "def getFlaged (playerLocations):\n",
    "    flagedCells = []\n",
    "    Cell = gameBoard() #Declare new class gameBoard\n",
    "    for position in playerLocations:\n",
    "        if (Cell.isFlaged(position)) #check if the cell \n",
    "            flaggedCells.append(position);\n",
    "    return flaggedCells;\n"
   ]
  },
  {
   "cell_type": "code",
   "execution_count": null,
   "id": "db657199",
   "metadata": {},
   "outputs": [],
   "source": [
    "placeHolderForTheLocationOfASetOfStringStorage"
   ]
  },
  {
   "cell_type": "code",
   "execution_count": null,
   "id": "4e1d93ca",
   "metadata": {},
   "outputs": [],
   "source": [
    "def copyChars(a1, a2, a3, a4...aN):\n",
    "    for i in range(a1)\n",
    "        a2[i] = a3[i]"
   ]
  },
  {
   "cell_type": "code",
   "execution_count": null,
   "id": "c3d030b1",
   "metadata": {},
   "outputs": [],
   "source": [
    "a = 1;\n",
    "if (l == a)\n",
    "    a = l;\n",
    "    else\n",
    "    l = 1;"
   ]
  },
  {
   "cell_type": "code",
   "execution_count": null,
   "id": "05acead2",
   "metadata": {},
   "outputs": [],
   "source": [
    "money = moneyAmount\n",
    "customer = customerInfo\n",
    "accountData = account\n"
   ]
  },
  {
   "cell_type": "code",
   "execution_count": null,
   "id": "26baeef3",
   "metadata": {},
   "outputs": [],
   "source": [
    "def badSaving(account):\n",
    "    userAccounts = account\n",
    "    account1 = userAccount[0]\n",
    "    accountName = account1.Name\n",
    "    accountName = accountName.first\n",
    "    for i in accountName:\n",
    "        accountNameFistSplits = accountName[i]"
   ]
  },
  {
   "cell_type": "code",
   "execution_count": null,
   "id": "5fc867af",
   "metadata": {},
   "outputs": [],
   "source": [
    "def dtaRcrd1:\n",
    "    _genmdhms = date() #Generate month, day, hour, min, second an save it \n",
    "    _gendmpt = date() #Generate dates members perform transfer \n",
    "\n",
    "def dataRecorder:\n",
    "    _generateTimestamp = date()\n",
    "    _accessDate = date() \n",
    " "
   ]
  },
  {
   "cell_type": "code",
   "execution_count": null,
   "id": "6c9f44de",
   "metadata": {},
   "outputs": [],
   "source": [
    "def customer(data, b):\n",
    "    for a in data:\n",
    "        if a == b:\n",
    "            return data[a]\n",
    "        \n",
    "def manager(data, a):\n",
    "    for b in data:\n",
    "        if b = a:\n",
    "            return False\n",
    "            \n",
    "    \n",
    "for i in range(j):\n",
    "    k += l[q] * m/4\n",
    "    \n",
    "\n",
    "vacationDays = 7\n",
    "daysOfSchool = 3\n",
    "DAYS_OF_THE_YEAR = 365\n",
    "\n",
    "\n"
   ]
  },
  {
   "cell_type": "code",
   "execution_count": null,
   "id": "e7633e1f",
   "metadata": {},
   "outputs": [],
   "source": [
    "def _printGuessStatistics(candidate, count):\n",
    "    number = ''\n",
    "    verb = ''\n",
    "    pluralModifier = ''\n",
    "    if (count == 0):\n",
    "        number = \"no\"\n",
    "        verb = \"are\"\n",
    "        pluralModifier = \"s\"\n",
    "    elif (count == 1):\n",
    "        number = \"1\"\n",
    "        verb = \"is\"\n",
    "        pluralModifier = \"\"\n",
    "    else:\n",
    "        number = Integer.toString(count)\n",
    "        verb = \"are\"\n",
    "        pluralModifier = \"s\"\n",
    "\n",
    "    guessMessage = \"There {0} {1} {2}{3}\".format( verb, number, candidate, pluralModifier)\n",
    "\n",
    "    print(guessMessage)"
   ]
  },
  {
   "cell_type": "code",
   "execution_count": null,
   "id": "5930c65b",
   "metadata": {},
   "outputs": [],
   "source": [
    "_printGuessStatistics(\"stuff\",0)"
   ]
  },
  {
   "cell_type": "markdown",
   "id": "1ea6421d",
   "metadata": {},
   "source": [
    "```Python\n",
    "match term:\n",
    "    case pattern-1:\n",
    "         action-1\n",
    "    case pattern-2:\n",
    "         action-2\n",
    "    case pattern-3:\n",
    "         action-3\n",
    "    case _:\n",
    "        action-default\n",
    "```"
   ]
  },
  {
   "cell_type": "code",
   "execution_count": null,
   "id": "be91c39f",
   "metadata": {},
   "outputs": [],
   "source": [
    "lang = input(\"What's the programming language you want to learn? \")\n",
    "\n"
   ]
  },
  {
   "cell_type": "code",
   "execution_count": null,
   "id": "714010f1",
   "metadata": {},
   "outputs": [],
   "source": [
    "match lang:\n",
    "    case \"JavaScript\":\n",
    "        print(\"You can become a web developer.\")\n",
    "\n",
    "    case \"Python\":\n",
    "        print(\"You can become a Data Scientist\")\n",
    "\n",
    "    case \"PHP\":\n",
    "        print(\"You can become a backend developer\")\n",
    "    \n",
    "    case \"Solidity\":\n",
    "        print(\"You can become a Blockchain developer\")\n",
    "\n",
    "    case \"Java\":\n",
    "        print(\"You can become a mobile app developer\")\n",
    "    case _:\n",
    "        print(\"The language doesn't matter, what matters is solving problems.\")"
   ]
  },
  {
   "cell_type": "code",
   "execution_count": 6,
   "id": "86591ade",
   "metadata": {},
   "outputs": [],
   "source": [
    "from datetime import date\n",
    " \n",
    "class Person:\n",
    "    def __init__(self, name, age):\n",
    "        self.name = name\n",
    "        self.age = age\n",
    " \n",
    "    # a class method to create a\n",
    "    # Person object by birth year.\n",
    "    @classmethod\n",
    "    def fromBirthYear(self, name, year):\n",
    "        return self(name, date.today().year - year)\n",
    " \n",
    "    def display(self):\n",
    "        print(\"Name : \", self.name, \"Age : \", self.age)"
   ]
  },
  {
   "cell_type": "code",
   "execution_count": 7,
   "id": "fca2c051",
   "metadata": {},
   "outputs": [
    {
     "name": "stdout",
     "output_type": "stream",
     "text": [
      "Name :  bill Age :  2004\n",
      "Name :  steve Age :  10\n"
     ]
    }
   ],
   "source": [
    "bill = Person.fromBirthYear('bill', 21)\n",
    "bill.display()\n",
    "steve = Person('steve', 10)\n",
    "steve.display()\n"
   ]
  },
  {
   "cell_type": "code",
   "execution_count": null,
   "id": "a361b7e1",
   "metadata": {},
   "outputs": [],
   "source": [
    "class GuessStatisticsMessage(object):\n",
    "    number = ''\n",
    "    verb = ''\n",
    "    pluralModifier = ''\n",
    "        \n",
    "    @classmethod\n",
    "    def _createPluralDependentMessageParts(cls, count):\n",
    "        if (count == 0):\n",
    "            cls._thereAreNoLetters()\n",
    "        elif (count == 1):\n",
    "            cls._thereIsOneLetter()\n",
    "        else:\n",
    "            cls._thereAreManyLetters(count)\n",
    "            \n",
    "    @classmethod\n",
    "    def _thereAreManyLetters(cls, count):\n",
    "        cls.number = int(count)\n",
    "        cls.verb = \"are\"\n",
    "        cls.pluralModifier = \"s\"\n",
    "        \n",
    "    @classmethod\n",
    "    def _thereIsOneLetter(cls): \n",
    "        cls.number = \"1\"\n",
    "        cls.verb = \"is\"\n",
    "        cls.pluralModifier = \"\"\n",
    "        \n",
    "    @classmethod\n",
    "    def _thereAreNoLetters(cls):\n",
    "        number = \"no\"\n",
    "        verb = \"are\"\n",
    "        pluralModifier = \"s\"\n",
    "        \n",
    "    @classmethod \n",
    "    def make(cls, candidate, count):\n",
    "        cls._createPluralDependentMessageParts(count);\n",
    "       # return (\"There {0} {1} {2}{3}\".format(\n",
    "        #    cls.verb, cls.number, candidate, cls.pluralModifier)\n",
    "        #       )"
   ]
  },
  {
   "cell_type": "code",
   "execution_count": null,
   "id": "6a7a923b",
   "metadata": {},
   "outputs": [],
   "source": [
    "the = GuessStatisticsMessage.make(\"the\", 1)"
   ]
  },
  {
   "cell_type": "code",
   "execution_count": null,
   "id": "c32fb006",
   "metadata": {},
   "outputs": [],
   "source": [
    "the.number"
   ]
  },
  {
   "cell_type": "code",
   "execution_count": null,
   "id": "1f175a64",
   "metadata": {},
   "outputs": [],
   "source": [
    "# NOTE: THIS CODE DOES NOT WORK DO NOT RUN: (converted from Java)\n",
    "def testableHtml( pageData, includeSuiteSetup) \n",
    "    wikiPage = pageData.getWikiPage()\n",
    "    buffer =  StringBuffer()\n",
    "        if (pageData.hasAttribute(\"Test\")):\n",
    "            if (includeSuiteSetup):\n",
    "                suiteSetup = PageCrawlerImpl.getInheritedPage(\n",
    "                        SuiteResponder.SUITE_SETUP_NAME, wikiPage)\n",
    "                \n",
    "        if (suiteSetup != null):\n",
    "            pagePath = suiteSetup.getPageCrawler().getFullPath(suiteSetup)\n",
    "            pagePathName = PathParser.render(pagePath)\n",
    "            buffer.append(\"!include -setup .\")\n",
    "                .append(pagePathName)\n",
    "                .append(\"\\n\");\n",
    "                \n",
    "    setup = PageCrawlerImpl.getInheritedPage(\"SetUp\", wikiPage)\n",
    "    \n",
    "    if (setup != null):\n",
    "        setupPath = wikiPage.getPageCrawler().getFullPath(setup)\n",
    "        setupPathName = PathParser.render(setupPath)\n",
    "        buffer.append(\"!include -setup .\")\n",
    "            .append(setupPathName)\n",
    "            .append(\"\\n\")\n",
    "    \n",
    "    buffer.append(pageData.getContent())\n",
    "    \n",
    "    if (pageData.hasAttribute(\"Test\")):\n",
    "        teardown = PageCrawlerImpl.getInheritedPage(\"TearDown\", wikiPage)\n",
    "        \n",
    "    if (teardown != null):\n",
    "        tearDownPath = wikiPage.getPageCrawler().getFullPath(teardown)\n",
    "        tearDownPathName = PathParser.render(tearDownPath)\n",
    "        buffer.append(\"\\n\")\n",
    "            .append(\"!include -teardown .\")\n",
    "            .append(tearDownPathName)\n",
    "            .append(\"\\n\")\n",
    "            \n",
    "    if (includeSuiteSetup):\n",
    "        suiteTeardown = PageCrawlerImpl.getInheritedPage(\n",
    "                SuiteResponder.SUITE_TEARDOWN_NAME,\n",
    "                wikiPage\n",
    "\n",
    "    if (suiteTeardown != null):\n",
    "        pagePath = suiteTeardown.getPageCrawler().getFullPath (suiteTeardown)\n",
    "        pagePathName = PathParser.render(pagePath)\n",
    "        buffer.append(\"!include -teardown .\")\n",
    "            .append(pagePathName)\n",
    "            .append(\"\\n\") \n",
    "            \n",
    "    pageData.setContent(buffer.toString())\n",
    "                \n",
    "    return pageData.getHtml()"
   ]
  },
  {
   "cell_type": "code",
   "execution_count": null,
   "id": "c0843d32",
   "metadata": {},
   "outputs": [],
   "source": [
    "def renderPageWithSetupsAndTeardowns(pageData, isSuite) \n",
    "    isTestPage = pageData.hasAttribute(\"Test\")\n",
    "    \n",
    "    if (isTestPage):\n",
    "        WikiPage testPage = pageData.getWikiPage()\n",
    "        newPageContent =  StringBuffer()\n",
    "        includeSetupPages(testPage, newPageContent, isSuite)\n",
    "        newPageContent.append(pageData.getContent())\n",
    "        includeTeardownPages(testPage, newPageContent, isSuite)\n",
    "        pageData.setContent(newPageContent.toString())\n",
    "\n",
    "return pageData.getHtml();\n"
   ]
  }
 ],
 "metadata": {
  "kernelspec": {
   "display_name": "Python 3",
   "language": "python",
   "name": "python3"
  },
  "language_info": {
   "codemirror_mode": {
    "name": "ipython",
    "version": 3
   },
   "file_extension": ".py",
   "mimetype": "text/x-python",
   "name": "python",
   "nbconvert_exporter": "python",
   "pygments_lexer": "ipython3",
   "version": "3.13.2"
  }
 },
 "nbformat": 4,
 "nbformat_minor": 5
}
