{
 "cells": [
  {
   "cell_type": "markdown",
   "metadata": {},
   "source": [
    "# Lab 6b -  Documenting Parameters with Docstrings in Python\n",
    "\n",
    "## Objective\n",
    "Learn how to write effective docstrings to document parameters in Python functions, methods, and classes."
   ]
  },
  {
   "cell_type": "markdown",
   "metadata": {},
   "source": [
    "##  Introduction to Docstrings\n",
    "Docstrings are string literals that appear right after the definition of a function, method, class, or module. They are used to document your code and make it easier to understand.\n",
    "\n",
    "###  Importance of Docstrings\n",
    "- **Clarity**: Docstrings help clarify what your code does.\n",
    "- **Maintenance**: They make it easier to maintain and update your code.\n",
    "- **Collaboration**: Docstrings improve collaboration by making your code more understandable to others.\n",
    "- **Tooling**: IDEs and other tools use docstrings to provide features like auto-completion and documentation generation."
   ]
  },
  {
   "cell_type": "markdown",
   "metadata": {},
   "source": [
    "### Writing Effective Docstrings\n",
    "Effective docstrings should be concise, clear, and informative. They should describe the purpose, parameters, return values, and any exceptions raised by the code."
   ]
  },
  {
   "cell_type": "markdown",
   "metadata": {},
   "source": [
    "## Writing Docstrings for Functions\n",
    "Docstrings for functions should describe what the function does, its parameters, and its return value."
   ]
  },
  {
   "cell_type": "code",
   "execution_count": null,
   "metadata": {},
   "outputs": [],
   "source": [
    "def calculate_area(radius):\n",
    "    \"\"\"\n",
    "    Calculate the area of a circle given its radius.\n",
    "    \n",
    "    Parameters:\n",
    "    radius (float): The radius of the circle.\n",
    "    \n",
    "    Returns:\n",
    "    float: The area of the circle.\n",
    "    \"\"\"\n",
    "    return 3.4 * radius ** 2\n",
    "\n",
    "def area(radius):\n",
    "    #does stuff\n",
    "    return 3.4 * radius ** 2\n",
    "\n",
    "area()"
   ]
  },
  {
   "cell_type": "markdown",
   "metadata": {},
   "source": [
    "## Documenting Parameters in Functions\n",
    "When documenting parameters in a function, you should include the following information:\n",
    "- **Name**: The name of the parameter.\n",
    "- **Type**: The type of the parameter (e.g., `int`, `float`, `str`).\n",
    "- **Description**: A brief description of the parameter's purpose."
   ]
  },
  {
   "cell_type": "markdown",
   "metadata": {},
   "source": [
    "Let's document the parameters of a function that calculates the volume of a cylinder:"
   ]
  },
  {
   "cell_type": "code",
   "execution_count": null,
   "metadata": {},
   "outputs": [],
   "source": [
    "def calculate_volume(radius, height):\n",
    "    \"\"\"\n",
    "    Calculate the volume of a cylinder given its radius and height.\n",
    "    \n",
    "    Parameters:\n",
    "    radius (float): The radius of the cylinder.\n",
    "    height (float): The height of the cylinder.\n",
    "    \n",
    "    Returns:\n",
    "    float: The volume of the cylinder.\n",
    "    \"\"\"\n",
    "    return 3.4 * radius ** 2 * height"
   ]
  },
  {
   "cell_type": "markdown",
   "metadata": {},
   "source": [
    "## Docstrings for Classes\n",
    "Docstrings for classes should describe the purpose of the class and its attributes."
   ]
  },
  {
   "cell_type": "code",
   "execution_count": 3,
   "metadata": {},
   "outputs": [],
   "source": [
    "class Car:\n",
    "    \"\"\"\n",
    "    A class to represent a car.\n",
    "    \n",
    "    Attributes:\n",
    "    make (str): The make of the car.\n",
    "    model (str): The model of the car.\n",
    "    year (int): The year the car was manufactured.\n",
    "    \"\"\"\n",
    "    \n",
    "    def __init__(self, make, model, year):\n",
    "        self.make = make\n",
    "        self.model = model\n",
    "        self.year = year"
   ]
  },
  {
   "cell_type": "markdown",
   "metadata": {},
   "source": [
    "## Documenting Parameters in Methods\n",
    "When documenting parameters in methods, follow the same principles as for functions. Include the name, type, and description of each parameter."
   ]
  },
  {
   "cell_type": "markdown",
   "metadata": {},
   "source": [
    "### Example\n",
    "Let's document the parameters of a method that starts the car's engine:"
   ]
  },
  {
   "cell_type": "code",
   "execution_count": 4,
   "metadata": {},
   "outputs": [],
   "source": [
    "class Car:\n",
    "    \"\"\"\n",
    "    A class to represent a car.\n",
    "    \"\"\"\n",
    "    \n",
    "    def __init__(self, make, model, year):\n",
    "        \"\"\"\n",
    "        Initialize the car with make, model, and year.\n",
    "        \n",
    "        Parameters:\n",
    "        make (str): The make of the car.\n",
    "        model (str): The model of the car.\n",
    "        year (int): The year the car was manufactured.\n",
    "        \"\"\"\n",
    "        self.make = make\n",
    "        self.model = model\n",
    "        self.year = year\n",
    "    \n",
    "    def start_engine(self):\n",
    "        \"\"\"\n",
    "        Start the car's engine.\n",
    "        \n",
    "        Returns:\n",
    "        str: A message indicating that the engine has started.\n",
    "        \"\"\"\n",
    "        return \"The engine has started.\""
   ]
  },
  {
   "cell_type": "markdown",
   "metadata": {},
   "source": [
    "## Best Practices for Writing Docstrings\n",
    "- **Be concise**: Keep docstrings short and to the point.\n",
    "- **Be clear**: Use clear and straightforward language.\n",
    "- **Be informative**: Include all necessary information, such as parameters, return values, and exceptions.\n",
    "- **Follow conventions**: Follow the PEP 257 conventions for writing docstrings."
   ]
  },
  {
   "cell_type": "code",
   "execution_count": null,
   "metadata": {},
   "outputs": [],
   "source": [
    "from abc import ABC, abstractmethod\n",
    "\n",
    "class Character(ABC):\n",
    "\n",
    "    def __init__(self):\n",
    "        \"\"\"\n",
    "        Initialize the character with default base attack and level.\n",
    "        \"\"\"\n",
    "        self.base_attack = 10\n",
    "        self.level = 1\n",
    "\n",
    "    @abstractmethod # This decorator indicates that the method must be overridden by subclasses.\n",
    "    def attack_power(self):\n",
    "        \"\"\"\n",
    "        Calculate the attack power of the character.\n",
    "        This method must be overridden by subclasses.\n",
    "        \"\"\"\n",
    "        pass\n",
    "\n",
    "    def print_info(self):\n",
    "        \"\"\"\n",
    "        Print the character's information.\n",
    "        \"\"\"\n",
    "        print(f'Character ({self}) : [ level : {self.level} base attack : {self.base_attack}]')\n",
    "\n",
    "    def set_base_attack(self, attack):\n",
    "        \"\"\"\n",
    "        Set the character's base attack value.\n",
    "        :param attack: The new base attack value.\n",
    "        \"\"\"\n",
    "        self.base_attack = attack\n",
    "\n",
    "    def set_level(self, lvl):\n",
    "        \"\"\"\n",
    "        Set the character's level and update the base attack accordingly.\n",
    "        :param lvl: The new level value.\n",
    "        \"\"\"\n",
    "        print(\"setLevel\")\n",
    "        self.level = lvl\n",
    "        self.base_attack = self.base_attack + lvl * 10\n",
    "\n",
    "class Wizard(Character):\n",
    "    \"\"\"\n",
    "    A subclass of Character representing a wizard with additional attributes and methods.\n",
    "    \"\"\"\n",
    "\n",
    "    def __init__(self):\n",
    "        \"\"\"\n",
    "        Initialize the wizard with default mana value.\n",
    "        \"\"\"\n",
    "        super().__init__()\n",
    "        self.mana = 100\n",
    "\n",
    "    def attack_power(self):\n",
    "        \"\"\"\n",
    "        Calculate the attack power of the wizard based on base attack, level, and mana.\n",
    "        :return: The attack power value.\n",
    "        \"\"\"\n",
    "        return self.base_attack * self.level * self.mana\n",
    "\n",
    "    def print_info(self):\n",
    "        \"\"\"\n",
    "        Print the wizard's information.\n",
    "        \"\"\"\n",
    "        print(f'Wizard ({self}) : [ mana : {self.mana} level : {self.level} base attack : {self.base_attack}]')\n",
    "\n",
    "    def set_level(self, lvl):\n",
    "        \"\"\"\n",
    "        Set the wizard's level, update mana, and base attack accordingly.\n",
    "        :param lvl: The new level value.\n",
    "        \"\"\"\n",
    "        self.level = lvl\n",
    "        self.mana = self.mana + lvl * 10\n",
    "        self.base_attack = self.base_attack + lvl * 10\n",
    "\n",
    "    def set_mana(self, m):\n",
    "        \"\"\"\n",
    "        Set the wizard's mana value.\n",
    "        :param m: The new mana value.\n",
    "        \"\"\"\n",
    "        self.mana = m"
   ]
  },
  {
   "cell_type": "code",
   "execution_count": 2,
   "metadata": {},
   "outputs": [
    {
     "ename": "TypeError",
     "evalue": "Can't instantiate abstract class Wizard without an implementation for abstract method 'attack_power'",
     "output_type": "error",
     "traceback": [
      "\u001b[1;31m---------------------------------------------------------------------------\u001b[0m",
      "\u001b[1;31mTypeError\u001b[0m                                 Traceback (most recent call last)",
      "Cell \u001b[1;32mIn[2], line 1\u001b[0m\n\u001b[1;32m----> 1\u001b[0m wizard1 \u001b[38;5;241m=\u001b[39m \u001b[43mWizard\u001b[49m\u001b[43m(\u001b[49m\u001b[43m)\u001b[49m  \u001b[38;5;66;03m# Create a wizard object\u001b[39;00m\n\u001b[0;32m      2\u001b[0m wizard1\u001b[38;5;241m.\u001b[39mprint_info()\n\u001b[0;32m      3\u001b[0m \u001b[38;5;28mprint\u001b[39m(\u001b[38;5;124m\"\u001b[39m\u001b[38;5;124mAttack Power:\u001b[39m\u001b[38;5;124m\"\u001b[39m, wizard1\u001b[38;5;241m.\u001b[39mattack_power())\n",
      "\u001b[1;31mTypeError\u001b[0m: Can't instantiate abstract class Wizard without an implementation for abstract method 'attack_power'"
     ]
    }
   ],
   "source": [
    "wizard1 = Wizard()  # Create a wizard object\n",
    "wizard1.print_info()\n",
    "print(\"Attack Power:\", wizard1.attack_power())\n",
    "\n",
    "# Change the member variables using setter methods\n",
    "wizard1.set_base_attack(15)\n",
    "print(\"Attack Power:\", wizard1.attack_power())\n",
    "wizard1.set_level(5)\n",
    "print(\"Attack Power:\", wizard1.attack_power())\n",
    "wizard1.set_mana(100)\n",
    "wizard1.set_level(10)\n",
    "print(\"Attack Power:\", wizard1.attack_power())\n",
    "wizard1.print_info()"
   ]
  }
 ],
 "metadata": {
  "kernelspec": {
   "display_name": "Python 3",
   "language": "python",
   "name": "python3"
  },
  "language_info": {
   "codemirror_mode": {
    "name": "ipython",
    "version": 3
   },
   "file_extension": ".py",
   "mimetype": "text/x-python",
   "name": "python",
   "nbconvert_exporter": "python",
   "pygments_lexer": "ipython3",
   "version": "3.13.2"
  }
 },
 "nbformat": 4,
 "nbformat_minor": 2
}
