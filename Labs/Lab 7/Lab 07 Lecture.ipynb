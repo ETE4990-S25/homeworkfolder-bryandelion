{
 "cells": [
  {
   "cell_type": "code",
   "execution_count": 4,
   "metadata": {},
   "outputs": [],
   "source": [
    "hashlib.md5(\"hello\".encode()).hexdigest()"
   ]
  },
  {
   "cell_type": "code",
   "execution_count": 2,
   "metadata": {},
   "outputs": [],
   "source": [
    "import hashlib"
   ]
  },
  {
   "cell_type": "code",
   "execution_count": 5,
   "metadata": {},
   "outputs": [
    {
     "data": {
      "text/plain": [
       "'2cf24dba5fb0a30e26e83b2ac5b9e29e1b161e5c1fa7425e73043362938b9824'"
      ]
     },
     "execution_count": 5,
     "metadata": {},
     "output_type": "execute_result"
    }
   ],
   "source": [
    "hashlib.sha256(\"hello\".encode()).hexdigest()\n"
   ]
  },
  {
   "cell_type": "code",
   "execution_count": 12,
   "metadata": {},
   "outputs": [],
   "source": [
    "!touch testa.txt\n"
   ]
  },
  {
   "cell_type": "code",
   "execution_count": 13,
   "metadata": {},
   "outputs": [
    {
     "data": {
      "text/plain": [
       "'d41d8cd98f00b204e9800998ecf8427e'"
      ]
     },
     "execution_count": 13,
     "metadata": {},
     "output_type": "execute_result"
    }
   ],
   "source": [
    "hashlib.md5(open(\"testa.txt\", \"rb\").read()).hexdigest()\n"
   ]
  },
  {
   "cell_type": "code",
   "execution_count": 14,
   "metadata": {},
   "outputs": [
    {
     "data": {
      "text/plain": [
       "'e3b0c44298fc1c149afbf4c8996fb92427ae41e4649b934ca495991b7852b855'"
      ]
     },
     "execution_count": 14,
     "metadata": {},
     "output_type": "execute_result"
    }
   ],
   "source": [
    "hashlib.sha256(open(\"testa.txt\", \"rb\").read()).hexdigest()"
   ]
  },
  {
   "cell_type": "code",
   "execution_count": 15,
   "metadata": {},
   "outputs": [
    {
     "data": {
      "text/plain": [
       "'e3b0c44298fc1c149afbf4c8996fb92427ae41e4649b934ca495991b7852b855'"
      ]
     },
     "execution_count": 15,
     "metadata": {},
     "output_type": "execute_result"
    }
   ],
   "source": [
    "hashlib.sha256(open(\"test.txt\", \"rb\").read()).hexdigest()"
   ]
  },
  {
   "cell_type": "code",
   "execution_count": null,
   "metadata": {},
   "outputs": [],
   "source": [
    "import random\n",
    "\n",
    "# Define Elements (powers for characters)\n",
    "ELECTRIC = \"electric\"\n",
    "WATER = \"water\"\n",
    "FIRE = \"fire\"\n",
    "GRASS = \"grass\"\n",
    "NORMAL = \"normal\"\n",
    "\n",
    "# Element Effectiveness against other elements\n",
    "Element_Effectivness = {\n",
    "    # Elemental Strengths (Amplifiers)\n",
    "    (ELECTRIC, WATER): 1.4,  # Electric is strong against Water\n",
    "    (WATER, FIRE): 1.4,      # Water is strong against Fire\n",
    "    (FIRE, GRASS): 1.4,      # Fire is strong against Grass\n",
    "    (GRASS, WATER): 1.4,     # Grass is strong against Water\n",
    "\n",
    "    # Elemental Weaknesses (Reducers)\n",
    "    (WATER, GRASS): 0.7,     # Water is weak against Grass\n",
    "    (FIRE, WATER): 0.7,      # Fire is weak against Water\n",
    "    (GRASS, FIRE): 0.7       # Grass is weak against Fire\n",
    "}\n",
    "\n",
    "# Define Player Class\n",
    "class Player():\n",
    "    def __init__(self, name, gender):\n",
    "        self.name = name\n",
    "        self.gender = gender\n",
    "\n",
    "\n",
    "# Pokemon Class (for all Pokemon)\n",
    "class Pokemon():\n",
    "    def __init__(self, name, health, health_cap, damage, element):\n",
    "        self.name = name\n",
    "        self.health = health\n",
    "        self.health_cap = health_cap          ## To avoid over healing and used for calculations (run)\n",
    "        self.damage = damage\n",
    "        self.element = element\n",
    "\n",
    "    def get_elemental_multiplier(self, target_element):\n",
    "        if (self.element, target_element) in Element_Effectivness:\n",
    "            return Element_Effectivness[(self.element, target_element)]\n",
    "        elif (target_element, self.element) in Element_Effectivness:\n",
    "            return 1 / Element_Effectivness[(target_element, self.element)]\n",
    "        return 1\n",
    "\n",
    "    def Attack(self, target):\n",
    "        # Get the elemental multiplier (either amplifier or reducer)\n",
    "        multiplier = self.get_elemental_multiplier(target.element)\n",
    "        total_damage = self.damage * multiplier  # Calculate damage based on the multiplier\n",
    "        target.health -= total_damage  # Subtract the damage from target's health\n",
    "\n",
    "        # Print out the results of the Attack\n",
    "        print(f\"{self.name} Attacks {target.name} for: {total_damage:.2f} damage.\")\n",
    "\n",
    "        # Determine if there is an elemental advantage or disadvantage\n",
    "        if multiplier > 1:\n",
    "            print(\"It's super effective!\")\n",
    "        elif multiplier < 1:\n",
    "            print(\"It's not very effective...\")\n",
    "\n",
    "        # Print the health of the target and the Attacker after the Attack\n",
    "        print(f\"{target.name}'s health is now {target.health:.2f}.\")\n",
    "        print(f\"{self.name}'s health is {self.health:.2f}.\")\n",
    "\n",
    "    def Run(self):                                                        ## Random chance to get away\n",
    "        Probability = (self.health_cap - self.health) / self.health_cap   ## The less health, the better chance to get away    \n",
    "\n",
    "        if Probability > random.random():                                 ## random.random() returns random float between 1 and 0\n",
    "            print(f\"{self.name} got away safely\\n\")\n",
    "            return True\n",
    "        else:\n",
    "            print(f\"{self.name} couldn't get away\\n\")\n",
    "            return False\n",
    "    \n",
    "    def Fainted(self):\n",
    "        if self.health <= 0:                           ## Check if Pokemon fainted\n",
    "            self.health = 0\n",
    "            print(f\"{self.name} fainted\")\n",
    "            return True\n",
    "        return False\n",
    "    \n",
    "\n",
    "##Initialize some Pokemon\n",
    "Bulbasaur = Pokemon(\"Bulbasaur\", 45, 45, 49, GRASS)\n",
    "Squirtle = Pokemon(\"Squirtle\", 44, 44, 48, WATER)\n",
    "Charmander = Pokemon(\"Charmander\", 39, 39, 52, FIRE)\n",
    "Pikachu = Pokemon(\"Pikachu\", 35, 35, 55, ELECTRIC)\n",
    "Jigglypuff = Pokemon(\"Jigglypuff\", 115, 115,115, NORMAL)\n",
    "Meowth = Pokemon(\"Meowth\", 40, 40, 40, NORMAL)\n",
    "Psyduck = Pokemon(\"Psyduck\", 50,50, 50, WATER)\n",
    "Eevee = Pokemon(\"Eevee\", 55,55, 55, NORMAL)\n",
    "Growlithe = Pokemon(\"Growlithe\", 55, 55,55, FIRE)\n",
    "Oddish = Pokemon(\"Oddish\", 45,45, 45, GRASS)\n",
    "Bellsprout = Pokemon(\"Bellsprout\", 50, 50, 50, GRASS)\n",
    "\n",
    "\n",
    "def Battle(Player, Enemy):\n",
    "    flag = True\n",
    "    Turn = 1\n",
    "    while flag:\n",
    "        Decision = input(\"Attack or Run?\")     ## Decide wheather to fight or run\n",
    "\n",
    "        if Decision.capitalize() == \"Attack\":\n",
    "            Player.Attack(Enemy)               ## Use Attack from parent Character class\n",
    "            flag = not(Enemy.Fainted())\n",
    "            break\n",
    "\n",
    "        elif Decision.capitalize() == \"Run\":     ## Use Run from parent Character class\n",
    "            flag = Player.Run()\n",
    "            break\n",
    "\n",
    "        else:\n",
    "            print(\"Incorrect Input, Try again\")\n",
    "            break\n",
    "        \n",
    "        enemy_choice = random.random()     ##Random chance for enemy to Attack or run\n",
    "\n",
    "        if enemy_choice > 0.90:            ## 10% chance to decide to run\n",
    "            flag = not Enemy.Run()\n",
    "        else:\n",
    "            Enemy.Attack(Player)           ## 90% chance to attack\n",
    "            flag = not Player.Fainted()\n",
    "\n",
    "\n",
    "\n"
   ]
  },
  {
   "cell_type": "code",
   "execution_count": null,
   "metadata": {},
   "outputs": [
    {
     "name": "stdout",
     "output_type": "stream",
     "text": [
      "Bulbasaur Attacks Squirtle for: 68.60 damage.\n",
      "It's super effective!\n",
      "Squirtle's health is now -24.60.\n",
      "Bulbasaur's health is 45.00.\n",
      "Squirtle fainted\n",
      "Squirtle Attacks Bulbasaur for: 33.60 damage.\n",
      "It's not very effective...\n",
      "Bulbasaur's health is now 11.40.\n",
      "Squirtle's health is 0.00.\n"
     ]
    }
   ],
   "source": [
    "\n",
    "Battle(Bulbasaur, Squirtle)"
   ]
  },
  {
   "cell_type": "code",
   "execution_count": null,
   "metadata": {},
   "outputs": [],
   "source": []
  }
 ],
 "metadata": {
  "kernelspec": {
   "display_name": "Python 3",
   "language": "python",
   "name": "python3"
  },
  "language_info": {
   "codemirror_mode": {
    "name": "ipython",
    "version": 3
   },
   "file_extension": ".py",
   "mimetype": "text/x-python",
   "name": "python",
   "nbconvert_exporter": "python",
   "pygments_lexer": "ipython3",
   "version": "3.12.3"
  }
 },
 "nbformat": 4,
 "nbformat_minor": 2
}
