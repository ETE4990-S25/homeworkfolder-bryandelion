{
 "cells": [
  {
   "cell_type": "markdown",
   "id": "0209af47-6b8d-4f34-8292-aa79deef5088",
   "metadata": {},
   "source": [
    "# Lab 2 - Refactoring\n",
    "## Refactoring is:\n",
    "\n",
    "Refactoring is the process of restructuring or rewriting code, while not changing its original functionality. The goal of refactoring is to improve internal code by making many small changes without altering the code's external behavior. \n",
    "\n",
    "It is easier said than done. "
   ]
  },
  {
   "cell_type": "markdown",
   "id": "f470981d-7433-42f0-a742-a9ddeae57056",
   "metadata": {},
   "source": [
    "### Part 1 - Warm-up\n",
    "\n",
    "You will refactor the following code:"
   ]
  },
  {
   "cell_type": "code",
   "execution_count": 2,
   "id": "b817e22e-46ae-4dfe-9a38-c3d3e818168b",
   "metadata": {},
   "outputs": [
    {
     "name": "stdout",
     "output_type": "stream",
     "text": [
      "Enter a number:  1\n"
     ]
    },
    {
     "name": "stdout",
     "output_type": "stream",
     "text": [
      "5 is more than 1\n"
     ]
    }
   ],
   "source": [
    "#stolen from https://realpython.com/python-refactoring/\n",
    "#yes you can go there and look at what they did no do it yourself\n",
    "x = 5\n",
    "value = input(\"Enter a number: \")\n",
    "y = int(value)\n",
    "if x < y:\n",
    "    print(f\"{x} is less than {y}\")\n",
    "elif x == y:\n",
    "    print(f\"{x} is equal to {y}\")\n",
    "else:\n",
    "    print(f\"{x} is more than {y}\")"
   ]
  },
  {
   "cell_type": "code",
   "execution_count": null,
   "id": "033cf53c-96bc-4174-813d-09ad088787d6",
   "metadata": {},
   "outputs": [],
   "source": [
    "solution = 5\n",
    "yourGuess = int(input(\"Enter a number: \"))\n",
    "print(solution,\" is\")\n",
    "\n",
    "if solution < yourGuess:\n",
    "    print(\"less than\")\n",
    "elif  solution == yourGuess:\n",
    "    print(\"equal to\")\n",
    "else:\n",
    "    print(\"more than\")\n",
    "\n",
    "print(f\"{yourGuess}\")\n",
    "\n",
    "\n",
    "x = 5\n",
    "y = int(input(\"Enter a number: \"))\n",
    "\n",
    "comparison = \"less than\" if x < y else \"equal to\" if x == y else \"more than\"\n",
    "# name = value if condition else value if condition2 else value2\n",
    "print(f\"{x} is {comparison} {y}\")"
   ]
  },
  {
   "cell_type": "markdown",
   "id": "bb9edc37-9bd7-4b4a-8ec1-d1465d85be37",
   "metadata": {},
   "source": [
    "## Part 2\n",
    "Refactor the following"
   ]
  },
  {
   "cell_type": "code",
   "execution_count": null,
   "id": "733c4d16-c02c-4058-9cb6-4b751c86dc93",
   "metadata": {},
   "outputs": [],
   "source": [
    "def attacks(inCharType, inCharSpell):\n",
    "    #charType=[\"wizard\",\"warrior\"]\n",
    "\n",
    "    wizardSpells= [\"fireball\",\"lightning\",\"cry\"]\n",
    "    mageSpells = \n",
    "    attacks = [\"slash\",\"bash\",\"weep\"]\n",
    "\n",
    "    if inCharType == \"wizard\":\n",
    "        if inCharSpell in spells:\n",
    "            return \"casts \" + inCharSpell\n",
    "    elif inCharType == \"warrior\":\n",
    "        if inCharSpell in attacks:\n",
    "            return inCharType.attack()\n",
    "             \n",
    "    return \"does nothing\"\n",
    "\n",
    "def b(z):\n",
    "    for i in range(10):\n",
    "        if z == \"dragon\":\n",
    "            return \"fights dragon\"\n",
    "        elif z == \"goblin\":\n",
    "            return \"fights goblin\"\n",
    "        elif z == \"orc\":\n",
    "            return \"fights orc\"\n",
    "        elif \n",
    "            z==\n",
    "        else:\n",
    "            return \"does nothing\"   \n",
    "\n",
    "    def c():\n",
    "        for i in range(5):\n",
    "            print(\"exploring dungeon\")\n",
    "        for j in range(5):\n",
    "            print(\"finding treasure\")\n",
    "\n",
    "def main():\n",
    "    print(a(\"wizard\", \"fireball\"))\n",
    "    print(a(\"warrior\", \"slash\"))\n",
    "    print(b(\"dragon\"))\n",
    "    c()\n",
    "main()"
   ]
  },
  {
   "cell_type": "code",
   "execution_count": 9,
   "metadata": {},
   "outputs": [
    {
     "data": {
      "text/plain": [
       "'does nothing'"
      ]
     },
     "execution_count": 9,
     "metadata": {},
     "output_type": "execute_result"
    }
   ],
   "source": [
    "spells = [\"fireball\",\"lightning\",\"slash\",\"bash\"]\n",
    "def tmp(playersClassType, playersCastingSpell):\n",
    "    global spells\n",
    "    if PlayersClassType == \"wizard\":\n",
    "        if playersCastingSpell in spells[0:2]:\n",
    "            return \"casts \" + inCharSpell\n",
    "        return \"does nothing\"\n",
    "tmp(\"wizard\",\"slash\")"
   ]
  },
  {
   "cell_type": "code",
   "execution_count": null,
   "metadata": {},
   "outputs": [],
   "source": [
    "playersClassType == \"wizard\":\n",
    "        if playersCastingSpell in spells[0:2]:\n",
    "            return \"casts \" + inCharSpell\n",
    "        return \"does nothing\"\n",
    "tmp(\"wizard\",\"slash\")"
   ]
  },
  {
   "cell_type": "code",
   "execution_count": 8,
   "metadata": {},
   "outputs": [
    {
     "data": {
      "text/plain": [
       "['fireball', 'lightning']"
      ]
     },
     "execution_count": 8,
     "metadata": {},
     "output_type": "execute_result"
    }
   ],
   "source": [
    "spells[0:2]"
   ]
  },
  {
   "cell_type": "code",
   "execution_count": null,
   "metadata": {},
   "outputs": [],
   "source": [
    "# put your refactored code here\n",
    "def attack(character_type, spell):\n",
    "    wizard_spells = [\"fireball\", \"lightning\", \"cry\"]\n",
    "    warrior_attacks = [\"slash\", \"bash\", \"weep\"]\n",
    "\n",
    "    if character_type == \"wizard\" and spell in wizard_spells:\n",
    "        return f\"{character_type} casts {spell}\"\n",
    "    elif character_type == \"warrior\" and spell in warrior_attacks:\n",
    "        return f\"{character_type} performs {spell}\"\n",
    "    \n",
    "    return f\"{character_type} does nothing\"\n",
    "\n",
    "def battle(enemy):\n",
    "    enemies = [\"dragon\", \"goblin\", \"orc\"]\n",
    "\n",
    "    if enemy in enemies:\n",
    "        return f\"fights {enemy}\"\n",
    "    \n",
    "    return \"does nothing\"\n",
    "\n",
    "def explore():\n",
    "    for _ in range(5):\n",
    "        print(\"Exploring dungeon...\")\n",
    "    for _ in range(5):\n",
    "        print(\"Finding treasure...\")\n",
    "\n",
    "def main():\n",
    "    print(attack(\"wizard\", \"fireball\"))\n",
    "    print(attack(\"warrior\", \"slash\"))\n",
    "    print(battle(\"dragon\"))\n",
    "    explore()\n",
    "\n",
    "if __name__ == \"__main__\":\n",
    "    main()\n",
    "\n",
    "\n",
    "\n"
   ]
  },
  {
   "cell_type": "markdown",
   "metadata": {},
   "source": [
    "# Part 3\n",
    "Refactor your partners lab 1 code so it is a clean function. Look at part 4 and see how you can adapt the code to fit project one. "
   ]
  },
  {
   "cell_type": "code",
   "execution_count": 1,
   "metadata": {},
   "outputs": [
    {
     "name": "stdout",
     "output_type": "stream",
     "text": [
      "Welcome to the Number Guessing Game! Lose, and you'll have to try again...\n",
      "A number has been generated using 5 dice.\n",
      "Invalid input! Please enter a valid number.\n",
      "Invalid input! Please enter a valid number.\n",
      "Invalid input! Please enter a valid number.\n",
      "Invalid input! Please enter a valid number.\n",
      "Invalid input! Please enter a valid number.\n",
      "Invalid input! Please enter a valid number.\n",
      "Invalid input! Please enter a valid number.\n",
      "Invalid input! Please enter a valid number.\n",
      "Invalid input! Please enter a valid number.\n",
      "Invalid guess! Please enter a number between 5 and 30.\n",
      "Invalid guess! Please enter a number between 5 and 30.\n",
      "Invalid guess! Please enter a number between 5 and 30.\n",
      "Invalid input! Please enter a valid number.\n",
      "Invalid input! Please enter a valid number.\n",
      "Invalid input! Please enter a valid number.\n",
      "Invalid input! Please enter a valid number.\n",
      "Invalid input! Please enter a valid number.\n",
      "Invalid input! Please enter a valid number.\n",
      "Invalid input! Please enter a valid number.\n",
      "Invalid input! Please enter a valid number.\n",
      "Invalid input! Please enter a valid number.\n",
      "Invalid input! Please enter a valid number.\n",
      "Invalid input! Please enter a valid number.\n",
      "Invalid input! Please enter a valid number.\n",
      "Invalid input! Please enter a valid number.\n",
      "Invalid input! Please enter a valid number.\n",
      "Invalid input! Please enter a valid number.\n",
      "Invalid input! Please enter a valid number.\n"
     ]
    },
    {
     "ename": "KeyboardInterrupt",
     "evalue": "Interrupted by user",
     "output_type": "error",
     "traceback": [
      "\u001b[1;31m---------------------------------------------------------------------------\u001b[0m",
      "\u001b[1;31mKeyboardInterrupt\u001b[0m                         Traceback (most recent call last)",
      "Cell \u001b[1;32mIn[1], line 51\u001b[0m\n\u001b[0;32m     48\u001b[0m     \u001b[38;5;28mprint\u001b[39m(\u001b[38;5;124mf\u001b[39m\u001b[38;5;124m\"\u001b[39m\u001b[38;5;124mOutcomes: \u001b[39m\u001b[38;5;132;01m{\u001b[39;00moutcomes\u001b[38;5;132;01m}\u001b[39;00m\u001b[38;5;124m\"\u001b[39m)\n\u001b[0;32m     50\u001b[0m \u001b[38;5;28;01mif\u001b[39;00m \u001b[38;5;18m__name__\u001b[39m \u001b[38;5;241m==\u001b[39m \u001b[38;5;124m\"\u001b[39m\u001b[38;5;124m__main__\u001b[39m\u001b[38;5;124m\"\u001b[39m:\n\u001b[1;32m---> 51\u001b[0m     \u001b[43mplay_game\u001b[49m\u001b[43m(\u001b[49m\u001b[43m)\u001b[49m\n",
      "Cell \u001b[1;32mIn[1], line 31\u001b[0m, in \u001b[0;36mplay_game\u001b[1;34m()\u001b[0m\n\u001b[0;32m     28\u001b[0m guess_count \u001b[38;5;241m=\u001b[39m \u001b[38;5;241m0\u001b[39m\n\u001b[0;32m     30\u001b[0m \u001b[38;5;28;01mwhile\u001b[39;00m \u001b[38;5;28;01mTrue\u001b[39;00m:\n\u001b[1;32m---> 31\u001b[0m     guess \u001b[38;5;241m=\u001b[39m \u001b[43mget_user_guess\u001b[49m\u001b[43m(\u001b[49m\u001b[43m)\u001b[49m\n\u001b[0;32m     32\u001b[0m     guess_count \u001b[38;5;241m+\u001b[39m\u001b[38;5;241m=\u001b[39m \u001b[38;5;241m1\u001b[39m\n\u001b[0;32m     33\u001b[0m     gameplay_history\u001b[38;5;241m.\u001b[39mappend(guess)\n",
      "Cell \u001b[1;32mIn[1], line 11\u001b[0m, in \u001b[0;36mget_user_guess\u001b[1;34m()\u001b[0m\n\u001b[0;32m      9\u001b[0m \u001b[38;5;28;01mwhile\u001b[39;00m \u001b[38;5;28;01mTrue\u001b[39;00m:\n\u001b[0;32m     10\u001b[0m     \u001b[38;5;28;01mtry\u001b[39;00m:\n\u001b[1;32m---> 11\u001b[0m         guess \u001b[38;5;241m=\u001b[39m \u001b[38;5;28mint\u001b[39m(\u001b[38;5;28;43minput\u001b[39;49m\u001b[43m(\u001b[49m\u001b[38;5;124;43m\"\u001b[39;49m\u001b[38;5;124;43mEnter your guess (between 5 and 30): \u001b[39;49m\u001b[38;5;124;43m\"\u001b[39;49m\u001b[43m)\u001b[49m)\n\u001b[0;32m     12\u001b[0m         \u001b[38;5;28;01mif\u001b[39;00m \u001b[38;5;241m5\u001b[39m \u001b[38;5;241m<\u001b[39m\u001b[38;5;241m=\u001b[39m guess \u001b[38;5;241m<\u001b[39m\u001b[38;5;241m=\u001b[39m \u001b[38;5;241m30\u001b[39m:\n\u001b[0;32m     13\u001b[0m             \u001b[38;5;28;01mreturn\u001b[39;00m guess\n",
      "File \u001b[1;32m~\\AppData\\Local\\Programs\\Python\\Python311\\Lib\\site-packages\\ipykernel\\kernelbase.py:1282\u001b[0m, in \u001b[0;36mKernel.raw_input\u001b[1;34m(self, prompt)\u001b[0m\n\u001b[0;32m   1280\u001b[0m     msg \u001b[38;5;241m=\u001b[39m \u001b[38;5;124m\"\u001b[39m\u001b[38;5;124mraw_input was called, but this frontend does not support input requests.\u001b[39m\u001b[38;5;124m\"\u001b[39m\n\u001b[0;32m   1281\u001b[0m     \u001b[38;5;28;01mraise\u001b[39;00m StdinNotImplementedError(msg)\n\u001b[1;32m-> 1282\u001b[0m \u001b[38;5;28;01mreturn\u001b[39;00m \u001b[38;5;28;43mself\u001b[39;49m\u001b[38;5;241;43m.\u001b[39;49m\u001b[43m_input_request\u001b[49m\u001b[43m(\u001b[49m\n\u001b[0;32m   1283\u001b[0m \u001b[43m    \u001b[49m\u001b[38;5;28;43mstr\u001b[39;49m\u001b[43m(\u001b[49m\u001b[43mprompt\u001b[49m\u001b[43m)\u001b[49m\u001b[43m,\u001b[49m\n\u001b[0;32m   1284\u001b[0m \u001b[43m    \u001b[49m\u001b[38;5;28;43mself\u001b[39;49m\u001b[38;5;241;43m.\u001b[39;49m\u001b[43m_parent_ident\u001b[49m\u001b[43m[\u001b[49m\u001b[38;5;124;43m\"\u001b[39;49m\u001b[38;5;124;43mshell\u001b[39;49m\u001b[38;5;124;43m\"\u001b[39;49m\u001b[43m]\u001b[49m\u001b[43m,\u001b[49m\n\u001b[0;32m   1285\u001b[0m \u001b[43m    \u001b[49m\u001b[38;5;28;43mself\u001b[39;49m\u001b[38;5;241;43m.\u001b[39;49m\u001b[43mget_parent\u001b[49m\u001b[43m(\u001b[49m\u001b[38;5;124;43m\"\u001b[39;49m\u001b[38;5;124;43mshell\u001b[39;49m\u001b[38;5;124;43m\"\u001b[39;49m\u001b[43m)\u001b[49m\u001b[43m,\u001b[49m\n\u001b[0;32m   1286\u001b[0m \u001b[43m    \u001b[49m\u001b[43mpassword\u001b[49m\u001b[38;5;241;43m=\u001b[39;49m\u001b[38;5;28;43;01mFalse\u001b[39;49;00m\u001b[43m,\u001b[49m\n\u001b[0;32m   1287\u001b[0m \u001b[43m\u001b[49m\u001b[43m)\u001b[49m\n",
      "File \u001b[1;32m~\\AppData\\Local\\Programs\\Python\\Python311\\Lib\\site-packages\\ipykernel\\kernelbase.py:1325\u001b[0m, in \u001b[0;36mKernel._input_request\u001b[1;34m(self, prompt, ident, parent, password)\u001b[0m\n\u001b[0;32m   1322\u001b[0m \u001b[38;5;28;01mexcept\u001b[39;00m \u001b[38;5;167;01mKeyboardInterrupt\u001b[39;00m:\n\u001b[0;32m   1323\u001b[0m     \u001b[38;5;66;03m# re-raise KeyboardInterrupt, to truncate traceback\u001b[39;00m\n\u001b[0;32m   1324\u001b[0m     msg \u001b[38;5;241m=\u001b[39m \u001b[38;5;124m\"\u001b[39m\u001b[38;5;124mInterrupted by user\u001b[39m\u001b[38;5;124m\"\u001b[39m\n\u001b[1;32m-> 1325\u001b[0m     \u001b[38;5;28;01mraise\u001b[39;00m \u001b[38;5;167;01mKeyboardInterrupt\u001b[39;00m(msg) \u001b[38;5;28;01mfrom\u001b[39;00m\u001b[38;5;250m \u001b[39m\u001b[38;5;28;01mNone\u001b[39;00m\n\u001b[0;32m   1326\u001b[0m \u001b[38;5;28;01mexcept\u001b[39;00m \u001b[38;5;167;01mException\u001b[39;00m:\n\u001b[0;32m   1327\u001b[0m     \u001b[38;5;28mself\u001b[39m\u001b[38;5;241m.\u001b[39mlog\u001b[38;5;241m.\u001b[39mwarning(\u001b[38;5;124m\"\u001b[39m\u001b[38;5;124mInvalid Message:\u001b[39m\u001b[38;5;124m\"\u001b[39m, exc_info\u001b[38;5;241m=\u001b[39m\u001b[38;5;28;01mTrue\u001b[39;00m)\n",
      "\u001b[1;31mKeyboardInterrupt\u001b[0m: Interrupted by user"
     ]
    }
   ],
   "source": [
    "import random\n",
    "\n",
    "def generate_secret_number():\n",
    "    \"\"\"Generate a secret number by rolling five dice.\"\"\"\n",
    "    return sum(random.randint(1, 6) for _ in range(5))\n",
    "\n",
    "def get_user_guess():\n",
    "    \"\"\"Prompt user for a valid guess between 5 and 30.\"\"\"\n",
    "    while True:\n",
    "        try:\n",
    "            guess = int(input(\"Enter your guess (between 5 and 30): \"))\n",
    "            if 5 <= guess <= 30:\n",
    "                return guess\n",
    "            else:\n",
    "                print(\"Invalid guess! Please enter a number between 5 and 30.\")\n",
    "        except ValueError:\n",
    "            print(\"Invalid input! Please enter a valid number.\")\n",
    "\n",
    "def play_game():\n",
    "    \"\"\"Run the number guessing game.\"\"\"\n",
    "    secret_number = generate_secret_number()\n",
    "    gameplay_history = []\n",
    "    outcomes = []\n",
    "\n",
    "    print(\"Welcome to the Number Guessing Game! Lose, and you'll have to try again...\")\n",
    "    print(\"A number has been generated using 5 dice.\")\n",
    "\n",
    "    guess_count = 0\n",
    "\n",
    "    while True:\n",
    "        guess = get_user_guess()\n",
    "        guess_count += 1\n",
    "        gameplay_history.append(guess)\n",
    "\n",
    "        if guess == secret_number:\n",
    "            print(\"Nice! You survived this time.\")\n",
    "            outcomes.append(\"Win\")\n",
    "            break\n",
    "        else:\n",
    "            hint = \"too low\" if guess < secret_number else \"too high\"\n",
    "            print(f\"{hint.capitalize()}, try again if you dare...\")\n",
    "            outcomes.append(\"Loss\")\n",
    "\n",
    "    print(\"\\nGame Statistics\")\n",
    "    print(f\"Secret Number: {secret_number}\")\n",
    "    print(f\"Total Attempts: {guess_count}\")\n",
    "    print(f\"Guesses: {gameplay_history}\")\n",
    "    print(f\"Outcomes: {outcomes}\")\n",
    "\n",
    "if __name__ == \"__main__\":\n",
    "    play_game()\n"
   ]
  },
  {
   "cell_type": "markdown",
   "id": "e589c6c8-f937-47e0-8db2-a37e03c12336",
   "metadata": {},
   "source": [
    "## Part 4 - take home but start in class                  \n",
    "# Project #1  introduction \n",
    "\n",
    "\n",
    "Your task is to develop a text-based video game focusing on the player profile, inventory system, and combat mechanics. Create a realistic player character with at least 10 inventory items, each with a description and an associated trait. Enjoy the process!\n",
    "\n",
    "Incorporate all the concepts we've covered so far, including files (read and write), JSON, operators, lists, optional tuples, functions, modules, and classes.\n",
    "\n",
    "### Requirements:\n",
    "- **Player Type Selection**: Allow players to choose their character type. Set attributes based on the choice (e.g., wizard: magic = 10, knight: magic = 0).\n",
    "- **Inventory Display**: Implement a function to show the player's inventory.\n",
    "- **Item Details**: Write a function to provide detailed information about an inventory item (e.g., Knife: \"forged in the depths of Polymar\", +5 magic, edged weapon, one-handed).\n",
    "  - Bonus: Calculate bonuses when equipping and unequipping items.\n",
    "- **Inventory Management**: Create functions to add and remove items from the inventory.\n",
    "- **Persistence**: Ensure the game can save and reload the player's character using files.\n",
    "\n",
    "Focus on building the player and inventory system for your text-based adventure game (similar to Zork). The map and gameplay can be developed later.\n",
    "\n",
    "### Game Features:\n",
    "- **Player Profile**: Include player stats.\n",
    "- **Inventory System**: Implement a bag to hold items.\n",
    "- **Items**: Include 10 items, each with a description and trait (e.g., +5 magic).\n",
    "- **Concepts**: Utilize functions, loops, arrays, classes, and constants. You may also use files and structs if desired.\n",
    "- **Player Type Selection**: Allow players to choose their character type and set attributes accordingly (e.g., wizard: magic = 10, knight: magic = 0).\n",
    "- **Inventory Display**: Implement a function to show the player's inventory.\n",
    "- **Code Quality**: Keep your code clean and consider various player needs, as this project will be handed off to a partner for further development.\n",
    "\n"
   ]
  },
  {
   "cell_type": "markdown",
   "id": "1fe3ba5e-722b-4ed8-b36f-c9ebd718bd7d",
   "metadata": {},
   "source": [
    "# Project 1 - Part 1\n",
    "Spend time planning out your code. You may work with your partner to plan out your code. How would you like your game to play? \n",
    "\n",
    "Use a UML planner like: \n",
    "\n",
    "\n",
    "https://miro.com/\n"
   ]
  },
  {
   "cell_type": "code",
   "execution_count": null,
   "id": "3bdce5be-0a31-4cf9-ba17-0f5be8cefc33",
   "metadata": {},
   "outputs": [],
   "source": [
    "#Elden_Ring"
   ]
  }
 ],
 "metadata": {
  "kernelspec": {
   "display_name": "Python 3",
   "language": "python",
   "name": "python3"
  },
  "language_info": {
   "codemirror_mode": {
    "name": "ipython",
    "version": 3
   },
   "file_extension": ".py",
   "mimetype": "text/x-python",
   "name": "python",
   "nbconvert_exporter": "python",
   "pygments_lexer": "ipython3",
   "version": "3.11.5"
  }
 },
 "nbformat": 4,
 "nbformat_minor": 5
}
